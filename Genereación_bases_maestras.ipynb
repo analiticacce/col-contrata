{
 "cells": [
  {
   "cell_type": "markdown",
   "metadata": {},
   "source": [
    "# Análisis de oferta\n",
    "\n",
    "Solución para hacer análisis de oferta del modelo de abastecimiento estratégico."
   ]
  },
  {
   "cell_type": "code",
   "execution_count": 3,
   "metadata": {},
   "outputs": [
    {
     "name": "stderr",
     "output_type": "stream",
     "text": [
      "WARNING:root:Requests made without an app_token will be subject to strict throttling limits.\n"
     ]
    }
   ],
   "source": [
    "import pandas as pd\n",
    "import numpy as np\n",
    "from ipywidgets import interact, interactive, fixed, interact_manual\n",
    "import ipywidgets as widgets\n",
    "import matplotlib.pyplot as plt\n",
    "import seaborn as sns\n",
    "import plotly.express as px\n",
    "\n",
    "# Paquetes de consulta a traves de Socrata\n",
    "\n",
    "from sodapy import Socrata\n",
    "identificador_columnas=pd.read_csv('datos/identificador_columnas.csv')\n",
    "valor_columnas={'SECOP I':'API_DA_S_I','SECOP II':'API_DA_S_II','TVEC':'API_DA_S_TVEC'}\n",
    "identificador_columnas=identificador_columnas[['Unificado','API_DA_S_I', 'API_DA_S_II']]\n",
    "identificador_columnas=identificador_columnas.dropna()\n",
    "identificador_columnas=identificador_columnas.set_index('Unificado')\n",
    "identificador_columnas.drop('Fuente',axis=0,inplace=True)\n",
    "identificador_datos={'SECOP I':'f789-7hwg','SECOP II':'jbjy-vk9h','TVEC':'rgxm-mmea'}\n",
    "valor_columnas={'SECOP I':'API_DA_S_I','SECOP II':'API_DA_S_II','TVEC':'API_DA_S_TVEC'}\n",
    "### Definición de cliente para Socrata\n",
    "\n",
    "cliente=Socrata('www.datos.gov.co',None,timeout=1000000)\n"
   ]
  },
  {
   "cell_type": "code",
   "execution_count": 5,
   "metadata": {},
   "outputs": [],
   "source": [
    "Queries_list=[]\n",
    "results=[]\n",
    "for i in ['SECOP I','SECOP II']:\n",
    "    query_SECOP=\"\"\"\n",
    "    SELECT \n",
    "        {2} as entidad,\n",
    "        {3} as departamento_entidad,\n",
    "        {4} as orden,\n",
    "        {5} as nit_entidad,\n",
    "        count({0}) as cantidad,\n",
    "        sum({1}) as suma_valor_contrato,\n",
    "        date_extract_y({6}) as año\n",
    "    Group by \n",
    "        {2},{3},{4},{5},{6}\n",
    "    LIMIT \n",
    "        10000000\n",
    "    \"\"\".format(identificador_columnas[valor_columnas[i]]['ID Contrato'],identificador_columnas[valor_columnas[i]]['Valor del contrato'],\n",
    "    identificador_columnas[valor_columnas[i]]['Entidad'],identificador_columnas[valor_columnas[i]]['Departamento Entidad'],\n",
    "    identificador_columnas[valor_columnas[i]]['Orden'],identificador_columnas[valor_columnas[i]]['NIT Entidad'],\n",
    "    identificador_columnas[valor_columnas[i]]['Fecha de Firma'])\n",
    "    Queries_list.append(query_SECOP)\n",
    "    results_detalle = cliente.get(identificador_datos[i], query=query_SECOP)\n",
    "    results.append(results_detalle)\n"
   ]
  },
  {
   "cell_type": "code",
   "execution_count": 6,
   "metadata": {},
   "outputs": [],
   "source": [
    "results_dataframe=pd.concat([pd.DataFrame(results[0]),pd.DataFrame(results[1])])\n",
    "results_dataframe.reset_index(inplace=True)\n",
    "results_dataframe.drop('index',axis=1,inplace=True)\n",
    "results_dataframe['suma_valor_contrato']=results_dataframe['suma_valor_contrato'].astype(float)\n",
    "results_dataframe['cantidad']=results_dataframe['cantidad'].astype(int)\n",
    "results_dataframe['orden']=results_dataframe['orden'].str.upper()\n",
    "results_dataframe['departamento_entidad']=results_dataframe['departamento_entidad'].replace('Distrito Capital de Bogotá','Bogotá DC')\\\n",
    "    .replace('San Andrés Providencia y Santa Catalina','San Andrés, Providencia y Santa Catalina').replace('Norte De Santander','Norte de Santander')"
   ]
  },
  {
   "cell_type": "code",
   "execution_count": 7,
   "metadata": {},
   "outputs": [],
   "source": [
    "results_dataframe_df=results_dataframe.groupby(['entidad','nit_entidad','año','orden','departamento_entidad']).agg({'cantidad':'sum','suma_valor_contrato':'sum'}).reset_index()"
   ]
  },
  {
   "cell_type": "code",
   "execution_count": 8,
   "metadata": {},
   "outputs": [],
   "source": [
    "results_dataframe_df.to_csv('datos/contratos_entidad.csv',index=False)"
   ]
  },
  {
   "cell_type": "code",
   "execution_count": 13,
   "metadata": {},
   "outputs": [],
   "source": [
    "dptos={}\n",
    "for i in results_dataframe['departamento_entidad'].unique():\n",
    "    dptos.update({i:[i]})\n",
    "dptos['Bogotá DC']=['Bogotá DC','Distrito Capital de Bogotá']\n",
    "dptos['San Andrés, Providencia y Santa Catalina']=['San Andrés, Providencia y Santa Catalina','San Andrés Providencia y Santa Catalina']\n",
    "dptos['Norte de Santander']=['Norte de Santander','Norte De Santander']"
   ]
  },
  {
   "cell_type": "code",
   "execution_count": 15,
   "metadata": {},
   "outputs": [],
   "source": [
    "import json\n",
    "with open(\"datos/dptos.json\", \"w\",encoding='utf-8') as write_file:\n",
    "    json.dump(dptos, write_file, indent=4,ensure_ascii=False)"
   ]
  },
  {
   "cell_type": "code",
   "execution_count": null,
   "metadata": {},
   "outputs": [],
   "source": []
  }
 ],
 "metadata": {
  "kernelspec": {
   "display_name": "Python 3.10.6 ('base')",
   "language": "python",
   "name": "python3"
  },
  "language_info": {
   "codemirror_mode": {
    "name": "ipython",
    "version": 3
   },
   "file_extension": ".py",
   "mimetype": "text/x-python",
   "name": "python",
   "nbconvert_exporter": "python",
   "pygments_lexer": "ipython3",
   "version": "3.10.6"
  },
  "orig_nbformat": 4,
  "vscode": {
   "interpreter": {
    "hash": "56c061c6a3605692dd8f68d833a6cd95e25f484a98386b6702ce308f04d6b922"
   }
  }
 },
 "nbformat": 4,
 "nbformat_minor": 2
}
